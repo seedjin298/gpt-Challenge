{
 "cells": [
  {
   "cell_type": "code",
   "execution_count": 9,
   "metadata": {},
   "outputs": [],
   "source": [
    "from langchain.chat_models import ChatOpenAI\n",
    "from langchain.prompts import ChatPromptTemplate\n",
    "from langchain.callbacks import StreamingStdOutCallbackHandler\n",
    "\n",
    "chat = ChatOpenAI(\n",
    "    temperature=0.1,\n",
    "    streaming=True,\n",
    "    callbacks=[StreamingStdOutCallbackHandler()]\n",
    ")\n",
    "\n",
    "poem_prompt = ChatPromptTemplate.from_messages([\n",
    "    (\"system\", \"You are a world-class poet. You write Haikus using programming languages. Return a new line after finishing Haiku.\"),\n",
    "    (\"human\", \"I want a Haiku about {programming_language}\")\n",
    "])\n",
    "\n",
    "poem_chain = poem_prompt | chat"
   ]
  },
  {
   "cell_type": "code",
   "execution_count": 10,
   "metadata": {},
   "outputs": [],
   "source": [
    "poem_explain_prompt = ChatPromptTemplate.from_messages([\n",
    "    (\"system\", \"You are a professional that explains about Haiku. You make commentary of a given Haiku. Return a new line after finishing each line for easier reading.\"),\n",
    "    (\"human\", \"{Haiku}\")\n",
    "])\n",
    "\n",
    "explain_chain = poem_explain_prompt | chat"
   ]
  },
  {
   "cell_type": "code",
   "execution_count": 12,
   "metadata": {},
   "outputs": [
    {
     "name": "stdout",
     "output_type": "stream",
     "text": [
      "Functions and loops dance,\n",
      "Callbacks in the moonlight,\n",
      "JavaScript romance.\n",
      "\n",
      "This Haiku beautifully captures the essence of programming,\n",
      "with functions and loops dancing in perfect harmony,\n",
      "callbacks adding a touch of magic under the moonlight,\n",
      "a poetic ode to the romance of JavaScript."
     ]
    },
    {
     "data": {
      "text/plain": [
       "AIMessageChunk(content='This Haiku beautifully captures the essence of programming,\\nwith functions and loops dancing in perfect harmony,\\ncallbacks adding a touch of magic under the moonlight,\\na poetic ode to the romance of JavaScript.')"
      ]
     },
     "execution_count": 12,
     "metadata": {},
     "output_type": "execute_result"
    }
   ],
   "source": [
    "final_chain = {\"Haiku\": poem_chain} | explain_chain\n",
    "\n",
    "final_chain.invoke({\n",
    "    \"programming_language\": \"javascript\"\n",
    "})"
   ]
  }
 ],
 "metadata": {
  "kernelspec": {
   "display_name": "env",
   "language": "python",
   "name": "python3"
  },
  "language_info": {
   "codemirror_mode": {
    "name": "ipython",
    "version": 3
   },
   "file_extension": ".py",
   "mimetype": "text/x-python",
   "name": "python",
   "nbconvert_exporter": "python",
   "pygments_lexer": "ipython3",
   "version": "3.11.9"
  }
 },
 "nbformat": 4,
 "nbformat_minor": 2
}
