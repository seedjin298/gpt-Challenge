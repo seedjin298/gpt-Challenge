{
 "cells": [
  {
   "cell_type": "code",
   "execution_count": 3,
   "metadata": {},
   "outputs": [
    {
     "name": "stdout",
     "output_type": "stream",
     "text": [
      "\n",
      "        Here is what I know:\n",
      "        Director: Wes Anderson\n",
      "        Main Cast: Ralph Fiennes as Monsieur Gustave H., Tony Revolori as Zero Moustafa\n",
      "        Budget: $25 million\n",
      "        Box Office Revenue: $174.8 million\n",
      "        Genre: Comedy, Drama\n",
      "        Synopsis: The film follows the adventures of Monsieur Gustave H., the legendary concierge at the Grand Budapest Hotel, and his loyal lobby boy, Zero Moustafa. \n",
      "            Set against the backdrop of a fictional European alpine country on the brink of war, the story involves a priceless painting, a murder mystery, and a whimsical tale of friendship and loyalty.\n",
      "        Here is what I know:\n",
      "        Director: Michel Gondry\n",
      "        Main Cast: Jim Carrey as Joel Barish, Kate Winslet as Clementine Kruczynski\n",
      "        Budget: $20 million\n",
      "        Box Office Revenue: $74.1 million\n",
      "        Genre: Drama, Romance, Science Fiction\n",
      "        Synopsis: Joel and Clementine undergo a procedure to erase memories of their tumultuous relationship from their minds. \n",
      "            As Joel relives his memories during the erasure process, he realizes the depth of his love for Clementine and fights to hold onto those precious moments, leading to a poignant exploration of love, loss, and memory."
     ]
    },
    {
     "data": {
      "text/plain": [
       "AIMessageChunk(content='\\n        Here is what I know:\\n        Director: Michel Gondry\\n        Main Cast: Jim Carrey as Joel Barish, Kate Winslet as Clementine Kruczynski\\n        Budget: $20 million\\n        Box Office Revenue: $74.1 million\\n        Genre: Drama, Romance, Science Fiction\\n        Synopsis: Joel and Clementine undergo a procedure to erase memories of their tumultuous relationship from their minds. \\n            As Joel relives his memories during the erasure process, he realizes the depth of his love for Clementine and fights to hold onto those precious moments, leading to a poignant exploration of love, loss, and memory.')"
      ]
     },
     "execution_count": 3,
     "metadata": {},
     "output_type": "execute_result"
    }
   ],
   "source": [
    "from langchain.chat_models import ChatOpenAI\n",
    "from langchain.prompts import ChatPromptTemplate, FewShotChatMessagePromptTemplate\n",
    "from langchain.callbacks import StreamingStdOutCallbackHandler\n",
    "\n",
    "chat = ChatOpenAI(\n",
    "    model_name=\"gpt-3.5-turbo\",\n",
    "    streaming=True,\n",
    "    callbacks=[\n",
    "        StreamingStdOutCallbackHandler(),\n",
    "    ],\n",
    ")\n",
    "\n",
    "examples = [\n",
    "    {\n",
    "        \"movie\": \"What do you know about Inception?\",\n",
    "        \"answer\": \"\"\"\n",
    "        Here is what I know:\n",
    "        Director: Christopher Nolan\n",
    "        Main Cast: Leonardo DiCaprio as Dom Cobb, Joseph Gordon-Levitt as Arthur\n",
    "        Budget: $160 million\n",
    "        Box Office Revenue: $836.8 million\n",
    "        Genre: Science Fiction, Action, Thriller\n",
    "        Synopsis: Dom Cobb is a skilled thief who specializes in infiltrating the subconscious minds of his targets to steal valuable secrets. \n",
    "            He is offered a chance to have his past crimes erased if he can successfully perform an \"inception\"—planting an idea in someone's mind without them realizing it. \n",
    "            As he assembles a team and dives deeper into the dream world, the lines between reality and dreams blur, leading to a thrilling and mind-bending experience.\n",
    "        \"\"\",\n",
    "    },\n",
    "    {\n",
    "        \"movie\": \"What do you know about The Shawshank Redemption?\",\n",
    "        \"answer\": \"\"\"\n",
    "        Here is what I know:\n",
    "        Director: Frank Darabont\n",
    "        Main Cast: Tim Robbins as Andy Dufresne, Morgan Freeman as Ellis \"Red\" Redding\n",
    "        Budget: $25 million\n",
    "        Box Office Revenue: $73.3 million\n",
    "        Genre: Drama, Crime\n",
    "        Synopsis: Andy Dufresne, a banker, is wrongfully convicted of murder and sentenced to life in Shawshank State Penitentiary.\n",
    "            Over the years, he befriends fellow inmate Red and gains respect and influence within the prison, ultimately orchestrating a daring escape. \n",
    "            The film explores themes of hope, friendship, and perseverance in the face of despair.\n",
    "        \"\"\",\n",
    "    },\n",
    "    {\n",
    "        \"movie\": \"What do you know about Mad Max: Fury Road?\",\n",
    "        \"answer\": \"\"\"\n",
    "        Here is what I know:\n",
    "        Director: George Miller\n",
    "        Main Cast: Tom Hardy as Max Rockatansky, Charlize Theron as Imperator Furiosa\n",
    "        Budget: $150-185 million\n",
    "        Box Office Revenue: $374.7 million\n",
    "        Genre: Action, Adventure, Science Fiction\n",
    "        Synopsis: In a post-apocalyptic wasteland, Max Rockatansky teams up with Imperator Furiosa as they flee from a tyrannical warlord, Immortan Joe, and his army. \n",
    "            With intense car chases, explosive action, and stunning visuals, the film follows their desperate attempt to escape and find redemption in a world devoid of hope.\n",
    "        \"\"\",\n",
    "    },\n",
    "]\n",
    "\n",
    "example_prompt = ChatPromptTemplate.from_messages(\n",
    "    [\n",
    "        (\"human\", \"What do you know about {movie}\"),\n",
    "        (\"ai\", \"{answer}\")\n",
    "    ]\n",
    ")\n",
    "\n",
    "example_prompt = FewShotChatMessagePromptTemplate(\n",
    "    example_prompt=example_prompt,\n",
    "    examples=examples,\n",
    ")\n",
    "\n",
    "final_prompt = ChatPromptTemplate.from_messages(\n",
    "    [\n",
    "        (\"system\", \"You are a movie expert that knows all informations about movies. You give short answers.\"),\n",
    "        example_prompt,\n",
    "        (\"human\", \"What do you know about {movie}\"),\n",
    "    ]\n",
    ")\n",
    "\n",
    "chain = final_prompt | chat\n",
    "\n",
    "chain.invoke({\"movie\": \"The Grand Budapest Hotel\"})\n",
    "\n",
    "chain.invoke({\"movie\": \"Eternal Sunshine of the Spotless Mind\"})\n"
   ]
  }
 ],
 "metadata": {
  "kernelspec": {
   "display_name": "env",
   "language": "python",
   "name": "python3"
  },
  "language_info": {
   "codemirror_mode": {
    "name": "ipython",
    "version": 3
   },
   "file_extension": ".py",
   "mimetype": "text/x-python",
   "name": "python",
   "nbconvert_exporter": "python",
   "pygments_lexer": "ipython3",
   "version": "3.11.9"
  }
 },
 "nbformat": 4,
 "nbformat_minor": 2
}
